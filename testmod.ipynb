{
 "cells": [
  {
   "cell_type": "code",
   "id": "initial_id",
   "metadata": {
    "collapsed": true,
    "ExecuteTime": {
     "end_time": "2025-02-20T08:41:30.197599Z",
     "start_time": "2025-02-20T08:41:30.012521Z"
    }
   },
   "source": "!nvidia-smi",
   "outputs": [
    {
     "name": "stdout",
     "output_type": "stream",
     "text": [
      "Thu Feb 20 09:41:30 2025       \n",
      "+-----------------------------------------------------------------------------------------+\n",
      "| NVIDIA-SMI 572.16                 Driver Version: 572.16         CUDA Version: 12.8     |\n",
      "|-----------------------------------------+------------------------+----------------------+\n",
      "| GPU  Name                  Driver-Model | Bus-Id          Disp.A | Volatile Uncorr. ECC |\n",
      "| Fan  Temp   Perf          Pwr:Usage/Cap |           Memory-Usage | GPU-Util  Compute M. |\n",
      "|                                         |                        |               MIG M. |\n",
      "|=========================================+========================+======================|\n",
      "|   0  NVIDIA GeForce RTX 4060 ...  WDDM  |   00000000:01:00.0  On |                  N/A |\n",
      "| N/A   47C    P8              4W /  106W |    1417MiB /   8188MiB |      2%      Default |\n",
      "|                                         |                        |                  N/A |\n",
      "+-----------------------------------------+------------------------+----------------------+\n",
      "                                                                                         \n",
      "+-----------------------------------------------------------------------------------------+\n",
      "| Processes:                                                                              |\n",
      "|  GPU   GI   CI              PID   Type   Process name                        GPU Memory |\n",
      "|        ID   ID                                                               Usage      |\n",
      "|=========================================================================================|\n",
      "|    0   N/A  N/A            2036    C+G   ...s\\PowerToys.ColorPickerUI.exe      N/A      |\n",
      "|    0   N/A  N/A           16360    C+G   ...rm 2024.2.1\\bin\\pycharm64.exe      N/A      |\n",
      "|    0   N/A  N/A           22484    C+G   ...Toys\\PowerToys.FancyZones.exe      N/A      |\n",
      "|    0   N/A  N/A           24300    C+G   ...adeonsoftware\\AMDRSSrcExt.exe      N/A      |\n",
      "|    0   N/A  N/A           29596    C+G   ...s\\Mozilla Firefox\\firefox.exe      N/A      |\n",
      "|    0   N/A  N/A           35248    C+G   ...onsoftware\\RadeonSoftware.exe      N/A      |\n",
      "|    0   N/A  N/A           35284    C+G   ....0.3065.69\\msedgewebview2.exe      N/A      |\n",
      "|    0   N/A  N/A           36656    C+G   ...xyewy\\ShellExperienceHost.exe      N/A      |\n",
      "|    0   N/A  N/A           39464    C+G   ..._cw5n1h2txyewy\\SearchHost.exe      N/A      |\n",
      "|    0   N/A  N/A           41464    C+G   ...y\\StartMenuExperienceHost.exe      N/A      |\n",
      "|    0   N/A  N/A           46920    C+G   ...5n1h2txyewy\\TextInputHost.exe      N/A      |\n",
      "|    0   N/A  N/A           47704    C+G   ...ntrolPanel\\SystemSettings.exe      N/A      |\n",
      "|    0   N/A  N/A           53544    C+G   ...IA app\\CEF\\NVIDIA Overlay.exe      N/A      |\n",
      "|    0   N/A  N/A           72356    C+G   ...indows\\System32\\ShellHost.exe      N/A      |\n",
      "|    0   N/A  N/A           73296    C+G   ....0.3065.69\\msedgewebview2.exe      N/A      |\n",
      "|    0   N/A  N/A           77044    C+G   ...cw5n1h2txyewy\\WidgetBoard.exe      N/A      |\n",
      "|    0   N/A  N/A           81620    C+G   ...s\\PowerToys.AdvancedPaste.exe      N/A      |\n",
      "|    0   N/A  N/A           95160    C+G   ...em32\\ApplicationFrameHost.exe      N/A      |\n",
      "|    0   N/A  N/A           97368    C+G   ...UI3Apps\\PowerToys.Peek.UI.exe      N/A      |\n",
      "|    0   N/A  N/A           98212    C+G   ...IA app\\CEF\\NVIDIA Overlay.exe      N/A      |\n",
      "|    0   N/A  N/A          100252    C+G   ...26wp6bftszj\\TranslucentTB.exe      N/A      |\n",
      "|    0   N/A  N/A          104464    C+G   ...mba6cd70vzyy\\ArmouryCrate.exe      N/A      |\n",
      "|    0   N/A  N/A          104916    C+G   ...s\\PowerToys.PowerLauncher.exe      N/A      |\n",
      "|    0   N/A  N/A          109392    C+G   C:\\Windows\\explorer.exe               N/A      |\n",
      "|    0   N/A  N/A          111200    C+G   ...s\\Mozilla Firefox\\firefox.exe      N/A      |\n",
      "+-----------------------------------------------------------------------------------------+\n"
     ]
    }
   ],
   "execution_count": 1
  },
  {
   "metadata": {
    "ExecuteTime": {
     "end_time": "2025-02-20T08:42:10.949524Z",
     "start_time": "2025-02-20T08:42:10.946286Z"
    }
   },
   "cell_type": "code",
   "source": [
    "import os\n",
    "HOME = os.getcwd()\n",
    "print(HOME)"
   ],
   "id": "e516a941e3d2f122",
   "outputs": [
    {
     "name": "stdout",
     "output_type": "stream",
     "text": [
      "C:\\Users\\PC\\PycharmProjects\\tstai\n"
     ]
    }
   ],
   "execution_count": 2
  },
  {
   "metadata": {},
   "cell_type": "code",
   "source": [
    "%pip install ultralytics==8.0.20\n",
    "\n",
    "from IPython import display\n",
    "display.clear_output()\n",
    "\n",
    "import ultralytics\n",
    "ultralytics.checks()"
   ],
   "id": "e3c6a08e9354d799",
   "execution_count": 3,
   "outputs": [
    {
     "name": "stdout",
     "output_type": "stream",
     "text": [
      "Ultralytics 8.3.77  Python-3.12.3 torch-2.6.0+cu126 CUDA:0 (NVIDIA GeForce RTX 4060 Laptop GPU, 8188MiB)\n",
      "Setup complete  (24 CPUs, 15.2 GB RAM, 284.1/926.4 GB disk)\n"
     ]
    }
   ]
  },
  {
   "metadata": {
    "ExecuteTime": {
     "end_time": "2025-02-20T08:43:28.361145Z",
     "start_time": "2025-02-20T08:43:28.358016Z"
    }
   },
   "cell_type": "code",
   "source": [
    "from ultralytics import YOLO\n",
    "\n",
    "from IPython.display import display, Image"
   ],
   "id": "6764491c7dcfa161",
   "outputs": [],
   "execution_count": 4
  },
  {
   "metadata": {
    "jupyter": {
     "is_executing": true
    },
    "ExecuteTime": {
     "start_time": "2025-02-20T08:46:31.907953Z"
    }
   },
   "cell_type": "code",
   "source": [
    "%mkdir {HOME}/datasets\n",
    "%cd {HOME}/datasets\n",
    "\n",
    "%pip install roboflow --quiet\n",
    "\n",
    "from roboflow import Roboflow\n",
    "\n",
    "from roboflow import Roboflow\n",
    "rf = Roboflow(api_key=\"moOAxzoPZOtIzhyyco0r\")\n",
    "project = rf.workspace(\"bisindo-qndjb\").project(\"bisindov2\")\n",
    "dataset = project.version(1).download(\"yolov8\")"
   ],
   "id": "5e63c9216d79b754",
   "outputs": [
    {
     "name": "stdout",
     "output_type": "stream",
     "text": [
      "[WinError 2] Le fichier spécifié est introuvable: 'C:\\\\Users\\\\PC\\\\PycharmProjects\\\\tstai/datasets'\n",
      "C:\\Users\\PC\\PycharmProjects\\tstai\n"
     ]
    },
    {
     "name": "stderr",
     "output_type": "stream",
     "text": [
      "La syntaxe de la commande n'est pas correcte.\n"
     ]
    }
   ],
   "execution_count": null
  },
  {
   "metadata": {},
   "cell_type": "code",
   "outputs": [],
   "execution_count": null,
   "source": [
    "%cd {HOME}\n",
    "\n",
    "yolo task=detect mode=train model=yolov8s.pt data={dataset.location}/data.yaml epochs=25 imgsz=800 plots=True"
   ],
   "id": "b67176b73575a291"
  }
 ],
 "metadata": {
  "kernelspec": {
   "display_name": "Python 3",
   "language": "python",
   "name": "python3"
  },
  "language_info": {
   "codemirror_mode": {
    "name": "ipython",
    "version": 2
   },
   "file_extension": ".py",
   "mimetype": "text/x-python",
   "name": "python",
   "nbconvert_exporter": "python",
   "pygments_lexer": "ipython2",
   "version": "2.7.6"
  }
 },
 "nbformat": 4,
 "nbformat_minor": 5
}
