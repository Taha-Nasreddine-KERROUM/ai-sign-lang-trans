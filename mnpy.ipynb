{
 "cells": [
  {
   "cell_type": "code",
   "id": "initial_id",
   "metadata": {
    "collapsed": true,
    "ExecuteTime": {
     "end_time": "2025-02-20T02:30:49.089218Z",
     "start_time": "2025-02-20T02:30:49.032309Z"
    }
   },
   "source": [
    "import torch\n",
    "import torch.nn as nn\n",
    "import torch.optim as optim\n",
    "import numpy as np\n",
    "from torch.utils.data import Dataset, DataLoader\n",
    "\n",
    "# Load the preprocessed data\n",
    "X = np.load(\"sign_keypoints.npy\")  # Shape: (num_samples, sequence_length, num_features)\n",
    "y = np.load(\"sign_labels.npy\")  # Shape: (num_samples,)\n",
    "\n",
    "# Convert labels to integers\n",
    "label_to_index = {label: idx for idx, label in enumerate(np.unique(y))}  # Assign a unique index to each label\n",
    "y_int = np.array([label_to_index[label] for label in y], dtype=np.int64)  # Convert labels to numbers\n",
    "\n",
    "# Normalize the data (optional but improves training stability)\n",
    "X = (X - np.min(X)) / (np.max(X) - np.min(X))\n",
    "# Convert to PyTorch tensor\n",
    "y_tensor = torch.tensor(y_int, dtype=torch.long)  # Now it's a tensor of integers\n",
    "\n",
    "# Convert to PyTorch tensors\n",
    "X_tensor = torch.tensor(X, dtype=torch.float32)\n",
    "\n",
    "# Define a PyTorch dataset\n",
    "class SignLanguageDataset(Dataset):\n",
    "    def __init__(self, X, y):\n",
    "        self.X = X\n",
    "        self.y = y\n",
    "\n",
    "    def __len__(self):\n",
    "        return len(self.X)\n",
    "\n",
    "    def __getitem__(self, idx):\n",
    "        return self.X[idx], self.y[idx]\n",
    "\n",
    "# Create dataset and DataLoader\n",
    "dataset = SignLanguageDataset(X_tensor, y_tensor)\n",
    "dataloader = DataLoader(dataset, batch_size=32, shuffle=True)  # Adjust batch size as needed\n",
    "\n",
    "print(f\"✅ Loaded dataset with {len(dataset)} samples\")\n"
   ],
   "outputs": [
    {
     "name": "stdout",
     "output_type": "stream",
     "text": [
      "✅ Loaded dataset with 105420 samples\n"
     ]
    },
    {
     "name": "stderr",
     "output_type": "stream",
     "text": [
      "C:\\Users\\PC\\AppData\\Local\\Temp\\ipykernel_98676\\2403173455.py:16: RuntimeWarning: invalid value encountered in divide\n",
      "  X = (X - np.min(X)) / (np.max(X) - np.min(X))\n"
     ]
    }
   ],
   "execution_count": 3
  }
 ],
 "metadata": {
  "kernelspec": {
   "display_name": "Python 3",
   "language": "python",
   "name": "python3"
  },
  "language_info": {
   "codemirror_mode": {
    "name": "ipython",
    "version": 2
   },
   "file_extension": ".py",
   "mimetype": "text/x-python",
   "name": "python",
   "nbconvert_exporter": "python",
   "pygments_lexer": "ipython2",
   "version": "2.7.6"
  }
 },
 "nbformat": 4,
 "nbformat_minor": 5
}
